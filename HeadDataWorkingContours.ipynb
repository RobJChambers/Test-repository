{
  "nbformat": 4,
  "nbformat_minor": 0,
  "metadata": {
    "colab": {
      "provenance": [],
      "collapsed_sections": [],
      "toc_visible": true,
      "include_colab_link": true
    },
    "kernelspec": {
      "name": "python3",
      "display_name": "Python 3"
    },
    "language_info": {
      "name": "python"
    },
    "accelerator": "GPU"
  },
  "cells": [
    {
      "cell_type": "markdown",
      "metadata": {
        "id": "view-in-github",
        "colab_type": "text"
      },
      "source": [
        "<a href=\"https://colab.research.google.com/github/RobJChambers/Test-repository/blob/main/HeadDataWorkingContours.ipynb\" target=\"_parent\"><img src=\"https://colab.research.google.com/assets/colab-badge.svg\" alt=\"Open In Colab\"/></a>"
      ]
    },
    {
      "cell_type": "code",
      "execution_count": null,
      "metadata": {
        "colab": {
          "base_uri": "https://localhost:8080/"
        },
        "id": "S_mKzx5i3kbr",
        "outputId": "c8258ed2-5cfe-4763-987c-e4f5ccd3473c"
      },
      "outputs": [
        {
          "output_type": "stream",
          "name": "stdout",
          "text": [
            "Mounted at /content/drive\n"
          ]
        }
      ],
      "source": [
        "from google.colab import drive\n",
        "drive.mount('/content/drive')"
      ]
    },
    {
      "cell_type": "code",
      "source": [
        "pip install pydicom"
      ],
      "metadata": {
        "colab": {
          "base_uri": "https://localhost:8080/"
        },
        "id": "dDrSsKqE3pVb",
        "outputId": "343e5ed6-4e03-4e42-85a9-c361d28e0576"
      },
      "execution_count": null,
      "outputs": [
        {
          "output_type": "stream",
          "name": "stdout",
          "text": [
            "Looking in indexes: https://pypi.org/simple, https://us-python.pkg.dev/colab-wheels/public/simple/\n",
            "Collecting pydicom\n",
            "  Downloading pydicom-2.3.0-py3-none-any.whl (2.0 MB)\n",
            "\u001b[K     |████████████████████████████████| 2.0 MB 5.3 MB/s \n",
            "\u001b[?25hInstalling collected packages: pydicom\n",
            "Successfully installed pydicom-2.3.0\n"
          ]
        }
      ]
    },
    {
      "cell_type": "code",
      "source": [
        "import os\n",
        "import pydicom as dicom\n",
        "import matplotlib.pyplot as plt\n",
        "import jax\n",
        "import jax.numpy as jnp\n",
        "import numpy as np"
      ],
      "metadata": {
        "id": "RmfEEKVH3vAZ"
      },
      "execution_count": null,
      "outputs": []
    },
    {
      "cell_type": "markdown",
      "source": [
        "## The first program that iterates all the different ROI scans on to different graphs (Slow because of all the graphs it has to plot).\n"
      ],
      "metadata": {
        "id": "QqxgPGkX4lCn"
      }
    },
    {
      "cell_type": "code",
      "source": [
        "# Reading in Paths\n",
        "path_structure = \"/content/drive/MyDrive/Colab Notebooks/New Head Data/HNSCC/HNSCC-01-0001/12-05-1998-NA-RT SIMULATION-43582/1.000000-NA-78710/1-1.dcm\"\n",
        "ds_struct = dicom.dcmread(path_structure)\n",
        "\n",
        "path_ct = \"/content/drive/MyDrive/Colab Notebooks/New Head Data/HNSCC/HNSCC-01-0001/12-05-1998-NA-RT SIMULATION-43582/NA-28768/1-010.dcm\"\n",
        "ds_ct = dicom.dcmread(path_ct)\n",
        "\n",
        "#------------------------- Contour Data Code------------------------------------\n",
        "\n",
        "# Iteration through all the contours on one CT scan\n",
        "\n",
        "%timeit for contour in ds_struct.ROIContourSequence[9].ContourSequence:\n",
        "          point_number = contour.NumberOfContourPoints\n",
        "\n",
        "          contour_array_old_coords = np.reshape(contour.ContourData, (point_number, 3))\n",
        "\n",
        "          new_x = (contour_array_old_coords[:,0] - ds_ct.ImagePositionPatient[0])/ ds_ct.PixelSpacing[0]\n",
        "          new_y = (contour_array_old_coords[:,1] - ds_ct.ImagePositionPatient[1])/ ds_ct.PixelSpacing[1]\n",
        "          xy_pairs = list(zip(new_x, new_y))\n",
        "\n",
        "          ct_z_coord = float(contour_array_old_coords[0][2])\n",
        "          slice_id = int(round((ct_z_coord - ds_ct.ImagePositionPatient[2])))\n",
        "\n",
        "          plt.rcParams[\"figure.figsize\"] = [7.00, 3.50]\n",
        "          plt.rcParams[\"figure.autolayout\"] = True\n",
        "          fig, ax = plt.subplots()\n",
        "          im = ax.imshow(ds_ct.pixel_array, cmap=plt.cm.gray)\n",
        "          ax.plot(new_x, new_y, linewidth=0.5, color='red')\n",
        "          plt.show()"
      ],
      "metadata": {
        "id": "mTgQgCEg4C-f",
        "colab": {
          "base_uri": "https://localhost:8080/",
          "height": 131
        },
        "outputId": "d7ccf5eb-afaa-4d5f-f06e-b8b25f78c3dc"
      },
      "execution_count": null,
      "outputs": [
        {
          "output_type": "error",
          "ename": "IndentationError",
          "evalue": "ignored",
          "traceback": [
            "\u001b[0;36m  File \u001b[0;32m\"<ipython-input-5-5447753d9c81>\"\u001b[0;36m, line \u001b[0;32m13\u001b[0m\n\u001b[0;31m    point_number = contour.NumberOfContourPoints\u001b[0m\n\u001b[0m    ^\u001b[0m\n\u001b[0;31mIndentationError\u001b[0m\u001b[0;31m:\u001b[0m unexpected indent\n"
          ]
        }
      ]
    },
    {
      "cell_type": "markdown",
      "source": [
        "## The second program that iterates through all contours for one CT scan and plots them all on to one graph (looks a bit messy though at least its all contained on one graph)."
      ],
      "metadata": {
        "id": "iNiE9riP4xZO"
      }
    },
    {
      "cell_type": "code",
      "source": [
        "# Reading in Paths\n",
        "path_structure = \"/content/drive/MyDrive/Colab Notebooks/New Head Data/HNSCC/HNSCC-01-0001/12-05-1998-NA-RT SIMULATION-43582/1.000000-NA-78710/1-1.dcm\"\n",
        "ds_struct = dicom.dcmread(path_structure)\n",
        "\n",
        "path_ct = \"/content/drive/MyDrive/Colab Notebooks/New Head Data/HNSCC/HNSCC-01-0001/12-05-1998-NA-RT SIMULATION-43582/NA-28768/1-010.dcm\"\n",
        "ds_ct = dicom.dcmread(path_ct)\n",
        "directory = \"/content/drive/MyDrive/Colab Notebooks/New Head Data/HNSCC/HNSCC-01-0001/12-05-1998-NA-RT SIMULATION-43582/NA-28768\"\n",
        "\n",
        "number_of_files = len([name for name in os.listdir(directory) if os.path.isfile(os.path.join(directory, name))])\n",
        "print(number_of_files)\n",
        "#------------------------- Contour Data Code------------------------------------\n",
        "\n",
        "# Iteration through all the contours on one CT scan\n",
        "\n",
        "plt.rcParams[\"figure.figsize\"] = [7.00, 3.50]\n",
        "plt.rcParams[\"figure.autolayout\"] = True\n",
        "fig, ax = plt.subplots()\n",
        "im = ax.imshow(ds_ct.pixel_array, cmap=plt.cm.gray)\n",
        " \n",
        "for contour in ds_struct.ROIContourSequence[9].ContourSequence:\n",
        "    point_number = contour.NumberOfContourPoints\n",
        "    \n",
        "    contour_array_old_coords = np.reshape(contour.ContourData, (point_number, 3))\n",
        " \n",
        "    new_x = (contour_array_old_coords[:,0] - ds_ct.ImagePositionPatient[0])/ ds_ct.PixelSpacing[0]\n",
        "    new_y = (contour_array_old_coords[:,1] - ds_ct.ImagePositionPatient[1])/ ds_ct.PixelSpacing[1]\n",
        "    xy_pairs = list(zip(new_x, new_y))\n",
        " \n",
        "    ct_z_coord = float(contour_array_old_coords[0][2])\n",
        "    slice_id = int(round((ct_z_coord - ds_ct.ImagePositionPatient[2])))\n",
        " \n",
        "    #im = ax.imshow(ds_ct.pixel_array, cmap=plt.cm.gray)\n",
        "    ax.plot(new_x, new_y, linewidth=0.5, color='red')\n",
        "\n",
        "plt.show()\n"
      ],
      "metadata": {
        "id": "W4Yxnowf5PIN",
        "colab": {
          "base_uri": "https://localhost:8080/",
          "height": 278
        },
        "outputId": "af03ab75-7c65-4174-f47f-f79be5929a5f"
      },
      "execution_count": null,
      "outputs": [
        {
          "output_type": "stream",
          "name": "stdout",
          "text": [
            "117\n"
          ]
        },
        {
          "output_type": "display_data",
          "data": {
            "text/plain": [
              "<Figure size 504x252 with 1 Axes>"
            ],
            "image/png": "[encoded data removed]"
          },
          "metadata": {
            "needs_background": "light"
          }
        }
      ]
    },
    {
      "cell_type": "markdown",
      "source": [
        "## The third Program that aims to plot all the contours from a given dataset onto their relevant CT images."
      ],
      "metadata": {
        "id": "7h8ucdWC5P0_"
      }
    },
    {
      "cell_type": "code",
      "source": [
        "# Reading in Paths\n",
        "path_structure = \"/content/drive/MyDrive/Colab Notebooks/New Head Data/HNSCC/HNSCC-01-0001/12-05-1998-NA-RT SIMULATION-43582/1.000000-NA-78710/1-1.dcm\"\n",
        "ds_struct = dicom.dcmread(path_structure)\n",
        "\n",
        "directory = \"/content/drive/MyDrive/Colab Notebooks/New Head Data/HNSCC/HNSCC-01-0001/12-05-1998-NA-RT SIMULATION-43582/NA-28768\"\n",
        "\n",
        "#------------------------- Contour Data Code------------------------------------\n",
        "\n",
        "# Iteration through a whole patients dataset\n",
        "for slice in os.scandir(directory):\n",
        "    if slice.is_file():\n",
        "        ds_ct = dicom.dcmread(slice.path)\n",
        "        fig, axis = plt.subplots()\n",
        "        axis.imshow(ds_ct.pixel_array, cmap=plt.cm.gray)\n",
        "        slice_id = ds_ct.SOPInstanceUID\n",
        "\n",
        "        # Plotting iteratively through all the contours on one CT scan\n",
        "        for i in range(len(ds_struct.ROIContourSequence)):\n",
        "            for j in range(len(ds_struct.ROIContourSequence[i].ContourSequence)):\n",
        "                for k in range(len(ds_struct.ROIContourSequence[i].ContourSequence[j].ContourImageSequence)):\n",
        "                    if ds_struct.ROIContourSequence[i].ContourSequence[j].ContourImageSequence[k].ReferencedSOPInstanceUID == slice_id:\n",
        "                        point_number = ds_struct.ROIContourSequence[i].ContourSequence[j].NumberOfContourPoints\n",
        "\n",
        "                        contour_array_old_coords = np.reshape(ds_struct.ROIContourSequence[i].ContourSequence[j].ContourData, (point_number, 3))\n",
        "                        new_x = (contour_array_old_coords[:,0] - ds_ct.ImagePositionPatient[0])/ ds_ct.PixelSpacing[0]\n",
        "                        new_y = (contour_array_old_coords[:,1] - ds_ct.ImagePositionPatient[1])/ ds_ct.PixelSpacing[1]\n",
        "                        #xy_pairs = list(zip(new_x, new_y))\n",
        "                        ct_z_coord = float(contour_array_old_coords[0][2])\n",
        "                        #slice_id = int(round((ct_z_coord - ds_ct.ImagePositionPatient[2])))\n",
        "                        axis.plot(new_x, new_y, linewidth=0.5)\n"
      ],
      "metadata": {
        "id": "lcJZ8-bN3-_A"
      },
      "execution_count": null,
      "outputs": []
    }
  ]
}